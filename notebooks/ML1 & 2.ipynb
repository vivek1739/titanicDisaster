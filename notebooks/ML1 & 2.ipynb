{
 "cells": [
  {
   "cell_type": "markdown",
   "metadata": {},
   "source": [
    "### Performance Metrics\n",
    "1. Accuracy\n",
    "2. Precision\n",
    "-> for precision we draw the confusion matrix, and look for predicted +ve values\n",
    "    - y axis : actual -ve, actual +ve\n",
    "    - x axis : predicted -ve, predicted +ve\n",
    "    - precision is what fraction of +ve predictions are correct ? \n",
    "    ie. **True +ve /(True +ve + False +ve)**\n",
    "3. Recall\n",
    "-> in confusion matrix, we will now look for actual positive values\n",
    "    - **True +ve/( True +ve + False -ve)**\n",
    "    \n",
    "-> Ideally we would want high precision and high recall"
   ]
  },
  {
   "cell_type": "markdown",
   "metadata": {},
   "source": [
    "## Ways for Classifier Evaluation\n",
    "-Train Test Split \n",
    "    - Note: Kaggle demands as the o/p to the train.csv that they give, So we can split the train.csv into two portions ( training data and test data )\n",
    "\n",
    "-> Build a **BaseLine model** first\n",
    "    - we can assess the performance of any subsequent model that we create\n",
    "    - In Classification, Baseline model will give output of majority class\n",
    "        - BaseLine model accuracy can also be calculated\n",
    "        "
   ]
  },
  {
   "cell_type": "code",
   "execution_count": 4,
   "metadata": {
    "collapsed": true
   },
   "outputs": [],
   "source": [
    "import pandas as pd\n",
    "import os\n",
    "import numpy as np\n"
   ]
  },
  {
   "cell_type": "code",
   "execution_count": 5,
   "metadata": {
    "collapsed": true
   },
   "outputs": [],
   "source": [
    "# Import Data\n",
    "processed_data_path = os.path.join(os.path.pardir,'data','processed')\n",
    "train_file_path = os.path.join(processed_data_path,'train.csv')\n",
    "test_file_path = os.path.join(processed_data_path,'test.csv')"
   ]
  },
  {
   "cell_type": "code",
   "execution_count": 6,
   "metadata": {
    "collapsed": true
   },
   "outputs": [],
   "source": [
    "train_df = pd.read_csv(train_file_path, index_col='PassengerId')\n",
    "test_df = pd.read_csv(test_file_path, index_col='PassengerId')"
   ]
  },
  {
   "cell_type": "code",
   "execution_count": 7,
   "metadata": {},
   "outputs": [
    {
     "name": "stdout",
     "output_type": "stream",
     "text": [
      "<class 'pandas.core.frame.DataFrame'>\n",
      "Int64Index: 891 entries, 1 to 891\n",
      "Data columns (total 33 columns):\n",
      "Survived              891 non-null int64\n",
      "Age                   891 non-null float64\n",
      "Fare                  891 non-null float64\n",
      "FamilySize            891 non-null int64\n",
      "IsMother              891 non-null int64\n",
      "IsMale                891 non-null int64\n",
      "Deck_A                891 non-null int64\n",
      "Deck_B                891 non-null int64\n",
      "Deck_C                891 non-null int64\n",
      "Deck_D                891 non-null int64\n",
      "Deck_E                891 non-null int64\n",
      "Deck_F                891 non-null int64\n",
      "Deck_G                891 non-null int64\n",
      "Deck_Z                891 non-null int64\n",
      "Pclass_1              891 non-null int64\n",
      "Pclass_2              891 non-null int64\n",
      "Pclass_3              891 non-null int64\n",
      "Title_Lady            891 non-null int64\n",
      "Title_Master          891 non-null int64\n",
      "Title_Miss            891 non-null int64\n",
      "Title_Mr              891 non-null int64\n",
      "Title_Mrs             891 non-null int64\n",
      "Title_Officer         891 non-null int64\n",
      "Title_Sir             891 non-null int64\n",
      "Fare_bin_high         891 non-null int64\n",
      "Fare_bin_low          891 non-null int64\n",
      "Fare_bin_very_high    891 non-null int64\n",
      "Fare_bin_very_low     891 non-null int64\n",
      "Embarked_C            891 non-null int64\n",
      "Embarked_Q            891 non-null int64\n",
      "Embarked_S            891 non-null int64\n",
      "AgeState_Adult        891 non-null int64\n",
      "AgeState_Child        891 non-null int64\n",
      "dtypes: float64(2), int64(31)\n",
      "memory usage: 236.7 KB\n"
     ]
    }
   ],
   "source": [
    "train_df.info()\n",
    "# survived is the o/p label"
   ]
  },
  {
   "cell_type": "markdown",
   "metadata": {},
   "source": [
    "### Data Preparation"
   ]
  },
  {
   "cell_type": "code",
   "execution_count": 8,
   "metadata": {
    "collapsed": true
   },
   "outputs": [],
   "source": [
    "X = train_df.loc[:,'Age':].as_matrix().astype('float')\n",
    "y = train_df['Survived'].ravel() # convert to 1-D array"
   ]
  },
  {
   "cell_type": "code",
   "execution_count": 9,
   "metadata": {},
   "outputs": [
    {
     "name": "stdout",
     "output_type": "stream",
     "text": [
      "(891, 32) (891,)\n"
     ]
    }
   ],
   "source": [
    "print(X.shape,y.shape)\n"
   ]
  },
  {
   "cell_type": "markdown",
   "metadata": {},
   "source": [
    "### Note : X is capital to denote a matrix and y is small to denote 1-Dimensional vector"
   ]
  },
  {
   "cell_type": "code",
   "execution_count": 10,
   "metadata": {},
   "outputs": [
    {
     "name": "stdout",
     "output_type": "stream",
     "text": [
      "(712, 32) (712,)\n",
      "(179, 32) (179,)\n"
     ]
    }
   ],
   "source": [
    "# train test split\n",
    "from sklearn.model_selection import train_test_split\n",
    "X_train, X_test, y_train, y_test = train_test_split(X,y, test_size=0.2,random_state =0)\n",
    "print(X_train.shape, y_train.shape)\n",
    "print(X_test.shape,y_test.shape)\n",
    "# random state is seed value for randomization"
   ]
  },
  {
   "cell_type": "code",
   "execution_count": 11,
   "metadata": {},
   "outputs": [
    {
     "name": "stdout",
     "output_type": "stream",
     "text": [
      "mean survival in train :0.383\n",
      "mean survival in test : 0.385\n"
     ]
    }
   ],
   "source": [
    "# average survival in train and test\n",
    "print(\"mean survival in train :{0:.3f}\".format(np.mean(y_train)))\n",
    "print(\"mean survival in test : {0:.3f}\".format(np.mean(y_test)))"
   ]
  },
  {
   "cell_type": "code",
   "execution_count": 12,
   "metadata": {
    "collapsed": true
   },
   "outputs": [],
   "source": [
    "#1. we can see that both test and train data have similar amount of \n",
    "    # positive classes\n",
    "#2. One problem is there for imbalanced class ie. 38 % +ve class and rest -ve class\n",
    "    # we will not look into it much now\n",
    "    \n",
    "# example : marketing dataset problem: conversion rate is 2-3% .'. diff approach for that problem"
   ]
  },
  {
   "cell_type": "markdown",
   "metadata": {},
   "source": [
    "#### Check scikit-learn version"
   ]
  },
  {
   "cell_type": "code",
   "execution_count": 13,
   "metadata": {
    "collapsed": true
   },
   "outputs": [],
   "source": [
    "import sklearn"
   ]
  },
  {
   "cell_type": "code",
   "execution_count": 14,
   "metadata": {},
   "outputs": [
    {
     "data": {
      "text/plain": [
       "'0.19.1'"
      ]
     },
     "execution_count": 14,
     "metadata": {},
     "output_type": "execute_result"
    }
   ],
   "source": [
    "sklearn.__version__\n",
    "# it should be greater than 0.19\n",
    "# !conda update -y scikit-learn"
   ]
  },
  {
   "cell_type": "markdown",
   "metadata": {},
   "source": [
    "### Baseline Model\n",
    "- we will use DummyClassifier here"
   ]
  },
  {
   "cell_type": "code",
   "execution_count": 1,
   "metadata": {
    "collapsed": true
   },
   "outputs": [],
   "source": [
    "from sklearn.dummy import DummyClassifier\n"
   ]
  },
  {
   "cell_type": "code",
   "execution_count": 2,
   "metadata": {
    "collapsed": true
   },
   "outputs": [],
   "source": [
    "# create model\n",
    "model_dummy = DummyClassifier(strategy='most_frequent',random_state = 0)"
   ]
  },
  {
   "cell_type": "code",
   "execution_count": 3,
   "metadata": {},
   "outputs": [
    {
     "ename": "NameError",
     "evalue": "name 'X_train' is not defined",
     "output_type": "error",
     "traceback": [
      "\u001b[1;31m---------------------------------------------------------------------------\u001b[0m",
      "\u001b[1;31mNameError\u001b[0m                                 Traceback (most recent call last)",
      "\u001b[1;32m<ipython-input-3-18715a094140>\u001b[0m in \u001b[0;36m<module>\u001b[1;34m()\u001b[0m\n\u001b[0;32m      1\u001b[0m \u001b[1;31m# train model\u001b[0m\u001b[1;33m\u001b[0m\u001b[1;33m\u001b[0m\u001b[0m\n\u001b[1;32m----> 2\u001b[1;33m \u001b[0mmodel_dummy\u001b[0m\u001b[1;33m.\u001b[0m\u001b[0mfit\u001b[0m\u001b[1;33m(\u001b[0m\u001b[0mX_train\u001b[0m\u001b[1;33m,\u001b[0m\u001b[0my_train\u001b[0m\u001b[1;33m)\u001b[0m\u001b[1;33m\u001b[0m\u001b[0m\n\u001b[0m",
      "\u001b[1;31mNameError\u001b[0m: name 'X_train' is not defined"
     ]
    }
   ],
   "source": [
    "# train model\n",
    "model_dummy.fit(X_train,y_train)"
   ]
  },
  {
   "cell_type": "code",
   "execution_count": null,
   "metadata": {},
   "outputs": [],
   "source": [
    "print(\"score for baseline model : {0:.2f}\".format(model_dummy.score(X_test,y_test)))\n",
    "# score will give the mean accuracy on test dataset\n",
    "    # for multiclass it is subset accuracy\n",
    "# in score model will predict on x_test and compare o/p on y_test"
   ]
  },
  {
   "cell_type": "code",
   "execution_count": 21,
   "metadata": {},
   "outputs": [
    {
     "name": "stdout",
     "output_type": "stream",
     "text": [
      "accuracy for baseline model :0.61\n"
     ]
    }
   ],
   "source": [
    "# explicitly get performance metrics\n",
    "from sklearn.metrics import accuracy_score, confusion_matrix, precision_score , recall_score\n",
    "# accuracy score\n",
    "print(\"accuracy for baseline model :{0:.2f}\".format(accuracy_score(y_test,model_dummy.predict(X_test))))"
   ]
  },
  {
   "cell_type": "code",
   "execution_count": 23,
   "metadata": {},
   "outputs": [
    {
     "name": "stdout",
     "output_type": "stream",
     "text": [
      "confusion matrix : \n",
      "[[110   0]\n",
      " [ 69   0]]\n"
     ]
    }
   ],
   "source": [
    "# confusion matrix\n",
    "print(\"confusion matrix : \\n{0}\".format(confusion_matrix(y_test,model_dummy.predict(X_test))))"
   ]
  },
  {
   "cell_type": "code",
   "execution_count": 26,
   "metadata": {},
   "outputs": [
    {
     "name": "stdout",
     "output_type": "stream",
     "text": [
      "precision matrix : \n",
      "0.0\n",
      "recall matrix : \n",
      "0.0\n"
     ]
    },
    {
     "name": "stderr",
     "output_type": "stream",
     "text": [
      "C:\\Anaconda3\\lib\\site-packages\\sklearn\\metrics\\classification.py:1135: UndefinedMetricWarning: Precision is ill-defined and being set to 0.0 due to no predicted samples.\n",
      "  'precision', 'predicted', average, warn_for)\n"
     ]
    }
   ],
   "source": [
    "# precision and recall \n",
    "print(\"precision matrix : \\n{0}\".format(precision_score(y_test,model_dummy.predict(X_test))))\n",
    "print(\"recall matrix : \\n{0}\".format(recall_score(y_test,model_dummy.predict(X_test))))"
   ]
  },
  {
   "cell_type": "markdown",
   "metadata": {},
   "source": [
    "## First Kaggle Submission"
   ]
  },
  {
   "cell_type": "code",
   "execution_count": 27,
   "metadata": {
    "collapsed": true
   },
   "outputs": [],
   "source": [
    "# converting to the matrix\n",
    "test_X = test_df.as_matrix().astype('float')"
   ]
  },
  {
   "cell_type": "code",
   "execution_count": 28,
   "metadata": {
    "collapsed": true
   },
   "outputs": [],
   "source": [
    "# get predictions\n",
    "predictions = model_dummy.predict(test_X)"
   ]
  },
  {
   "cell_type": "code",
   "execution_count": 29,
   "metadata": {
    "collapsed": true
   },
   "outputs": [],
   "source": [
    "df_submission = pd.DataFrame({'PassengerId': test_df.index,'Survived':predictions})"
   ]
  },
  {
   "cell_type": "code",
   "execution_count": 30,
   "metadata": {},
   "outputs": [
    {
     "data": {
      "text/html": [
       "<div>\n",
       "<style>\n",
       "    .dataframe thead tr:only-child th {\n",
       "        text-align: right;\n",
       "    }\n",
       "\n",
       "    .dataframe thead th {\n",
       "        text-align: left;\n",
       "    }\n",
       "\n",
       "    .dataframe tbody tr th {\n",
       "        vertical-align: top;\n",
       "    }\n",
       "</style>\n",
       "<table border=\"1\" class=\"dataframe\">\n",
       "  <thead>\n",
       "    <tr style=\"text-align: right;\">\n",
       "      <th></th>\n",
       "      <th>PassengerId</th>\n",
       "      <th>Survived</th>\n",
       "    </tr>\n",
       "  </thead>\n",
       "  <tbody>\n",
       "    <tr>\n",
       "      <th>0</th>\n",
       "      <td>892</td>\n",
       "      <td>0</td>\n",
       "    </tr>\n",
       "    <tr>\n",
       "      <th>1</th>\n",
       "      <td>893</td>\n",
       "      <td>0</td>\n",
       "    </tr>\n",
       "    <tr>\n",
       "      <th>2</th>\n",
       "      <td>894</td>\n",
       "      <td>0</td>\n",
       "    </tr>\n",
       "    <tr>\n",
       "      <th>3</th>\n",
       "      <td>895</td>\n",
       "      <td>0</td>\n",
       "    </tr>\n",
       "    <tr>\n",
       "      <th>4</th>\n",
       "      <td>896</td>\n",
       "      <td>0</td>\n",
       "    </tr>\n",
       "  </tbody>\n",
       "</table>\n",
       "</div>"
      ],
      "text/plain": [
       "   PassengerId  Survived\n",
       "0          892         0\n",
       "1          893         0\n",
       "2          894         0\n",
       "3          895         0\n",
       "4          896         0"
      ]
     },
     "execution_count": 30,
     "metadata": {},
     "output_type": "execute_result"
    }
   ],
   "source": [
    "df_submission.head()"
   ]
  },
  {
   "cell_type": "code",
   "execution_count": 31,
   "metadata": {
    "collapsed": true
   },
   "outputs": [],
   "source": [
    "submission_data_path = os.path.join(os.path.pardir,'data','external')\n",
    "submission_file_path = os.path.join(submission_data_path,'01_dummy.csv')"
   ]
  },
  {
   "cell_type": "code",
   "execution_count": 32,
   "metadata": {
    "collapsed": true
   },
   "outputs": [],
   "source": [
    "df_submission.to_csv(submission_file_path,index=False)"
   ]
  },
  {
   "cell_type": "code",
   "execution_count": 91,
   "metadata": {
    "collapsed": true
   },
   "outputs": [],
   "source": [
    "def get_submission_file(model,filename):\n",
    "    # converting to the matrix\n",
    "    test_X = test_df.as_matrix().astype('float')\n",
    "    predictions = model.predict(test_X)\n",
    "    df_submission = pd.DataFrame({'PassengerId': test_df.index,'Survived':predictions})\n",
    "    submission_data_path = os.path.join(os.path.pardir,'data','external')\n",
    "    submission_file_path = os.path.join(submission_data_path,filename)\n",
    "    df_submission.to_csv(submission_file_path,index=False)"
   ]
  },
  {
   "cell_type": "code",
   "execution_count": 36,
   "metadata": {
    "collapsed": true
   },
   "outputs": [],
   "source": [
    "get_submission_file(model_dummy,'01_dummy.csv')"
   ]
  },
  {
   "cell_type": "markdown",
   "metadata": {},
   "source": [
    "### Logistic Regression Model"
   ]
  },
  {
   "cell_type": "code",
   "execution_count": 18,
   "metadata": {},
   "outputs": [
    {
     "data": {
      "text/plain": [
       "LogisticRegression(C=1.0, class_weight=None, dual=False, fit_intercept=True,\n",
       "          intercept_scaling=1, max_iter=100, multi_class='ovr', n_jobs=1,\n",
       "          penalty='l2', random_state=0, solver='liblinear', tol=0.0001,\n",
       "          verbose=0, warm_start=False)"
      ]
     },
     "execution_count": 18,
     "metadata": {},
     "output_type": "execute_result"
    }
   ],
   "source": [
    "from sklearn.linear_model import LogisticRegression\n",
    "model_lr_1 = LogisticRegression(random_state =0)\n",
    "model_lr_1.fit(X_train,y_train)"
   ]
  },
  {
   "cell_type": "code",
   "execution_count": 45,
   "metadata": {},
   "outputs": [
    {
     "name": "stdout",
     "output_type": "stream",
     "text": [
      "score for logistic regression - version 1 :0.83\n"
     ]
    }
   ],
   "source": [
    "print(\"score for logistic regression - version 1 :{0:.2f}\".format(model_lr_1.score(X_test,y_test)))"
   ]
  },
  {
   "cell_type": "code",
   "execution_count": 46,
   "metadata": {},
   "outputs": [
    {
     "name": "stdout",
     "output_type": "stream",
     "text": [
      "accuracy for baseline model :0.83\n",
      "confusion matrix : \n",
      "[[95 15]\n",
      " [15 54]]\n",
      "precision matrix : \n",
      "0.782608695652174\n",
      "recall matrix : \n",
      "0.782608695652174\n"
     ]
    }
   ],
   "source": [
    "# precision and recall \n",
    "print(\"accuracy for baseline model :{0:.2f}\".format(accuracy_score(y_test,model_lr_1.predict(X_test))))\n",
    "print(\"confusion matrix : \\n{0}\".format(confusion_matrix(y_test,model_lr_1.predict(X_test))))\n",
    "print(\"precision matrix : \\n{0}\".format(precision_score(y_test,model_lr_1.predict(X_test))))\n",
    "print(\"recall matrix : \\n{0}\".format(recall_score(y_test,model_lr_1.predict(X_test))))"
   ]
  },
  {
   "cell_type": "code",
   "execution_count": 47,
   "metadata": {},
   "outputs": [
    {
     "data": {
      "text/plain": [
       "array([[-0.02842271,  0.00455452, -0.50009094,  0.61781308, -0.81392328,\n",
       "         0.1284508 , -0.1728179 , -0.39317831,  0.52159971,  1.09941224,\n",
       "         0.40341218, -0.1834505 , -0.30036038,  0.96533485,  0.48256742,\n",
       "        -0.34483445,  0.28089581,  1.21761324,  0.56363966, -1.445863  ,\n",
       "         1.07245564, -0.11273703, -0.47293649,  0.28009462,  0.2471692 ,\n",
       "         0.41324761,  0.1625564 ,  0.4918353 ,  0.46198829,  0.14924424,\n",
       "         0.3728352 ,  0.73023263]])"
      ]
     },
     "execution_count": 47,
     "metadata": {},
     "output_type": "execute_result"
    }
   ],
   "source": [
    "model_lr_1.coef_"
   ]
  },
  {
   "cell_type": "markdown",
   "metadata": {},
   "source": [
    "### 2nd submission"
   ]
  },
  {
   "cell_type": "code",
   "execution_count": 49,
   "metadata": {
    "collapsed": true
   },
   "outputs": [],
   "source": [
    "get_submission_file(model_lr_1,\"01_lr.csv\")"
   ]
  },
  {
   "cell_type": "markdown",
   "metadata": {},
   "source": [
    "## ------------ ML2 -----------------"
   ]
  },
  {
   "cell_type": "code",
   "execution_count": 19,
   "metadata": {},
   "outputs": [],
   "source": [
    "# PART 2\n",
    "model_lr = LogisticRegression(random_state=0)\n",
    "from sklearn.model_selection import GridSearchCV\n",
    "\n",
    "C_param = np.linspace(0.001, 1000, 1000)\n",
    "\n",
    "params = {'C':list(C_param), 'penalty':['l1','l2']}"
   ]
  },
  {
   "cell_type": "code",
   "execution_count": 59,
   "metadata": {},
   "outputs": [
    {
     "data": {
      "text/plain": [
       "GridSearchCV(cv=3, error_score='raise',\n",
       "       estimator=LogisticRegression(C=1.0, class_weight=None, dual=False, fit_intercept=True,\n",
       "          intercept_scaling=1, max_iter=100, multi_class='ovr', n_jobs=1,\n",
       "          penalty='l2', random_state=0, solver='liblinear', tol=0.0001,\n",
       "          verbose=0, warm_start=False),\n",
       "       fit_params=None, iid=True, n_jobs=-1,\n",
       "       param_grid={'C': [0.001, 1.002, 2.003, 3.004, 4.005000000000001, 5.006000000000001, 6.007000000000001, 7.008000000000001, 8.009, 9.01, 10.011000000000001, 11.012, 12.013, 13.014000000000001, 14.015, 15.016000000000002, 16.017000000000003, 17.018000000000004, 18.019000000000002, 19.020000000000003, 2... 995.9960000000001, 996.9970000000001, 997.998, 998.9990000000001, 1000.0], 'penalty': ['l1', 'l2']},\n",
       "       pre_dispatch='2*n_jobs', refit=True, return_train_score='warn',\n",
       "       scoring=None, verbose=0)"
      ]
     },
     "execution_count": 59,
     "metadata": {},
     "output_type": "execute_result"
    }
   ],
   "source": [
    "clf = GridSearchCV(model_lr, param_grid=params, cv=3,n_jobs=-1)\n",
    "clf.fit(X_train, y_train)"
   ]
  },
  {
   "cell_type": "code",
   "execution_count": 60,
   "metadata": {},
   "outputs": [
    {
     "data": {
      "text/plain": [
       "{'C': 1.002, 'penalty': 'l1'}"
      ]
     },
     "execution_count": 60,
     "metadata": {},
     "output_type": "execute_result"
    }
   ],
   "source": [
    "clf.best_params_"
   ]
  },
  {
   "cell_type": "code",
   "execution_count": 61,
   "metadata": {},
   "outputs": [
    {
     "name": "stdout",
     "output_type": "stream",
     "text": [
      "best score : 0.83\n",
      "score for log reg v2 : 0.83\n"
     ]
    }
   ],
   "source": [
    "print(\"best score : {0:.2f}\".format(clf.best_score_))\n",
    "\n",
    "# evalute model\n",
    "print(\"score for log reg v2 : {0:.2f}\".format(clf.score(X_test, y_test)))"
   ]
  },
  {
   "cell_type": "code",
   "execution_count": 62,
   "metadata": {
    "collapsed": true
   },
   "outputs": [],
   "source": [
    "get_submission_file(clf,'03_lr.csv')"
   ]
  },
  {
   "cell_type": "markdown",
   "metadata": {},
   "source": [
    "### Feature Standardization and Standardization\n",
    "- Minmax scalar for normalization\n",
    "- Standard Scaler for standardization"
   ]
  },
  {
   "cell_type": "code",
   "execution_count": 20,
   "metadata": {
    "collapsed": true
   },
   "outputs": [],
   "source": [
    "from sklearn.preprocessing import MinMaxScaler, StandardScaler\n",
    "ss = StandardScaler()"
   ]
  },
  {
   "cell_type": "code",
   "execution_count": 21,
   "metadata": {
    "collapsed": true
   },
   "outputs": [],
   "source": [
    "X_train_scaled = ss.fit_transform(X_train)\n",
    "X_test_scaled = ss.transform(X_test)"
   ]
  },
  {
   "cell_type": "code",
   "execution_count": 22,
   "metadata": {},
   "outputs": [
    {
     "name": "stdout",
     "output_type": "stream",
     "text": [
      "{'C': 1.002, 'penalty': 'l1'}\n"
     ]
    }
   ],
   "source": [
    "clf = GridSearchCV(model_lr, param_grid=params, cv=3,n_jobs=-1)\n",
    "clf.fit(X_train_scaled, y_train)\n",
    "print(clf.best_params_)\n"
   ]
  },
  {
   "cell_type": "code",
   "execution_count": 68,
   "metadata": {},
   "outputs": [
    {
     "name": "stdout",
     "output_type": "stream",
     "text": [
      "best score : 0.81\n",
      "score for log reg v2 : 0.84\n"
     ]
    }
   ],
   "source": [
    "print(\"best score : {0:.2f}\".format(clf.best_score_))\n",
    "\n",
    "# evalute model\n",
    "print(\"score for log reg v2 : {0:.2f}\".format(clf.score(X_test_scaled, y_test)))\n",
    "get_submission_file(clf,'scaled_lr.csv')\n",
    "\n",
    "# for log reg, standardization may not add value"
   ]
  },
  {
   "cell_type": "markdown",
   "metadata": {},
   "source": [
    "### Model persistence"
   ]
  },
  {
   "cell_type": "code",
   "execution_count": 70,
   "metadata": {
    "collapsed": true
   },
   "outputs": [],
   "source": [
    "import pickle\n",
    "\n",
    "# create file path\n",
    "model_file_path = os.path.join(os.path.pardir,'models','lr_model.pkl')\n",
    "scaler_file_path = os.path.join(os.path.pardir,'models','lr_scaler.pkl')\n",
    "\n",
    "# open the files to write\n",
    "model_file_pickle = open(model_file_path,'wb')\n",
    "scaler_file_pickle = open(scaler_file_path,'wb')\n",
    "# wb: write binary\n",
    "\n",
    "pickle.dump(clf, model_file_pickle)\n",
    "pickle.dump(ss, scaler_file_pickle)\n",
    "\n",
    "model_file_pickle.close()\n",
    "scaler_file_pickle.close()"
   ]
  },
  {
   "cell_type": "code",
   "execution_count": 72,
   "metadata": {
    "collapsed": true
   },
   "outputs": [],
   "source": [
    "# load persisited file\n",
    "model_file_pickle = open(model_file_path,'rb')\n",
    "scaler_file_pickle = open(scaler_file_path,'rb')\n",
    "\n",
    "clf_loaded = pickle.load(model_file_pickle)\n",
    "scaler_loaded = pickle.load(scaler_file_pickle)\n",
    "\n",
    "model_file_pickle.close()\n",
    "scaler_file_pickle.close()"
   ]
  },
  {
   "cell_type": "code",
   "execution_count": 73,
   "metadata": {},
   "outputs": [
    {
     "data": {
      "text/plain": [
       "GridSearchCV(cv=3, error_score='raise',\n",
       "       estimator=LogisticRegression(C=1.0, class_weight=None, dual=False, fit_intercept=True,\n",
       "          intercept_scaling=1, max_iter=100, multi_class='ovr', n_jobs=1,\n",
       "          penalty='l2', random_state=0, solver='liblinear', tol=0.0001,\n",
       "          verbose=0, warm_start=False),\n",
       "       fit_params=None, iid=True, n_jobs=-1,\n",
       "       param_grid={'C': [0.001, 1.002, 2.003, 3.004, 4.005000000000001, 5.006000000000001, 6.007000000000001, 7.008000000000001, 8.009, 9.01, 10.011000000000001, 11.012, 12.013, 13.014000000000001, 14.015, 15.016000000000002, 16.017000000000003, 17.018000000000004, 18.019000000000002, 19.020000000000003, 2... 995.9960000000001, 996.9970000000001, 997.998, 998.9990000000001, 1000.0], 'penalty': ['l1', 'l2']},\n",
       "       pre_dispatch='2*n_jobs', refit=True, return_train_score='warn',\n",
       "       scoring=None, verbose=0)"
      ]
     },
     "execution_count": 73,
     "metadata": {},
     "output_type": "execute_result"
    }
   ],
   "source": [
    "clf_loaded"
   ]
  },
  {
   "cell_type": "markdown",
   "metadata": {},
   "source": [
    "#### ML Api development\n",
    "- in rest api client can make request over http and server will give http response\n",
    "- common http verbs :GET,POST\n",
    "- create ml api using flash and use request to invoke the api"
   ]
  },
  {
   "cell_type": "code",
   "execution_count": 74,
   "metadata": {
    "collapsed": true
   },
   "outputs": [],
   "source": [
    "# hello world using flask\n",
    "import os\n",
    "hello_world_script_file = os.path.join(os.path.pardir,'src','models','hello_world_api.py')\n"
   ]
  },
  {
   "cell_type": "code",
   "execution_count": 77,
   "metadata": {},
   "outputs": [
    {
     "name": "stdout",
     "output_type": "stream",
     "text": [
      "Writing ..\\src\\models\\hello_world_api.py\n"
     ]
    }
   ],
   "source": [
    "%%writefile $hello_world_script_file\n",
    "\n",
    "from flask import Flask, request\n",
    "\n",
    "# creating flask app using flask function\n",
    "app = Flask(__name__)\n",
    "\n",
    "# creating api route\n",
    "@app.route('/api', methods=['POST'])\n",
    "def say_hello():\n",
    "    data = request.get_json(force=True)\n",
    "    name = data['name']\n",
    "    return (\"hello {0}\".format(name))\n",
    "\n",
    "if __name__ == '__main__':\n",
    "    app.run(port=10001, debug=True)"
   ]
  },
  {
   "cell_type": "code",
   "execution_count": 78,
   "metadata": {
    "collapsed": true
   },
   "outputs": [],
   "source": [
    "import json,requests\n",
    "# json use to convert input to json\n"
   ]
  },
  {
   "cell_type": "code",
   "execution_count": 82,
   "metadata": {
    "collapsed": true
   },
   "outputs": [],
   "source": [
    "url = \"http://127.0.0.1:10001/api\"\n",
    "data = json.dumps({'name':'abhi'})\n",
    "r = requests.post(url,data)"
   ]
  },
  {
   "cell_type": "code",
   "execution_count": 83,
   "metadata": {},
   "outputs": [
    {
     "data": {
      "text/plain": [
       "'hello abhi'"
      ]
     },
     "execution_count": 83,
     "metadata": {},
     "output_type": "execute_result"
    }
   ],
   "source": [
    "r.text"
   ]
  },
  {
   "cell_type": "markdown",
   "metadata": {},
   "source": [
    "** Machine learning api using flask **"
   ]
  },
  {
   "cell_type": "code",
   "execution_count": 85,
   "metadata": {
    "collapsed": true
   },
   "outputs": [],
   "source": [
    "machine_learning_api_script_file = os.path.join(os.path.pardir,'src','models',\"machine_learning_api.py\")"
   ]
  },
  {
   "cell_type": "code",
   "execution_count": 86,
   "metadata": {},
   "outputs": [
    {
     "name": "stderr",
     "output_type": "stream",
     "text": [
      "ERROR:root:Cell magic `%%` not found.\n"
     ]
    }
   ],
   "source": [
    "%% writefile $machine_learning_api_script_file\n"
   ]
  },
  {
   "cell_type": "markdown",
   "metadata": {},
   "source": [
    "### USing various ML models on the data"
   ]
  },
  {
   "cell_type": "code",
   "execution_count": 29,
   "metadata": {},
   "outputs": [],
   "source": [
    "from sklearn.ensemble import RandomForestClassifier\n",
    "\n",
    "params = {'n_estimators' : list(range(1,30))}"
   ]
  },
  {
   "cell_type": "code",
   "execution_count": 30,
   "metadata": {},
   "outputs": [
    {
     "name": "stdout",
     "output_type": "stream",
     "text": [
      "{'n_estimators': 15}\n",
      "best score : 0.81\n",
      "score for log reg v2 : 0.80\n"
     ]
    }
   ],
   "source": [
    "clf = GridSearchCV(RandomForestClassifier(), param_grid=params, cv=3,n_jobs=-1)\n",
    "clf.fit(X_train_scaled, y_train)\n",
    "print(clf.best_params_)\n",
    "\n",
    "print(\"best score : {0:.2f}\".format(clf.best_score_))\n",
    "\n",
    "# evalute model\n",
    "print(\"score for log reg v2 : {0:.2f}\".format(clf.score(X_test_scaled, y_test)))\n"
   ]
  },
  {
   "cell_type": "code",
   "execution_count": 32,
   "metadata": {
    "collapsed": true
   },
   "outputs": [],
   "source": [
    "get_submission_file(clf,'RF.csv')"
   ]
  },
  {
   "cell_type": "code",
   "execution_count": 33,
   "metadata": {},
   "outputs": [
    {
     "name": "stdout",
     "output_type": "stream",
     "text": [
      "Collecting xgboost\n",
      "  Downloading https://files.pythonhosted.org/packages/49/40/dfc5d356d2bf002298f0d1b8f7fd08671a455828f5804818a36d964bb29d/xgboost-0.72.1.tar.gz (574kB)\n"
     ]
    },
    {
     "name": "stderr",
     "output_type": "stream",
     "text": [
      "No files/directories in C:\\Users\\VIVEK~1.KUM\\AppData\\Local\\Temp\\pip-build-vl6w2vfh\\xgboost\\pip-egg-info (from PKG-INFO)\n",
      "You are using pip version 9.0.1, however version 10.0.1 is available.\n",
      "You should consider upgrading via the 'python -m pip install --upgrade pip' command.\n"
     ]
    }
   ],
   "source": [
    "### GBDT "
   ]
  },
  {
   "cell_type": "markdown",
   "metadata": {},
   "source": [
    "** XGboost **"
   ]
  },
  {
   "cell_type": "code",
   "execution_count": 35,
   "metadata": {
    "collapsed": true
   },
   "outputs": [],
   "source": [
    "from xgboost import XGBClassifier"
   ]
  },
  {
   "cell_type": "code",
   "execution_count": 36,
   "metadata": {},
   "outputs": [
    {
     "name": "stdout",
     "output_type": "stream",
     "text": [
      "{'colsample_bytree': 0.8, 'gamma': 0.5, 'max_depth': 5, 'min_child_weight': 5, 'subsample': 0.8}\n",
      "best score : 0.84\n",
      "score for log reg v2 : 0.83\n"
     ]
    },
    {
     "name": "stderr",
     "output_type": "stream",
     "text": [
      "C:\\Anaconda3\\lib\\site-packages\\sklearn\\preprocessing\\label.py:151: DeprecationWarning: The truth value of an empty array is ambiguous. Returning False, but in future this will result in an error. Use `array.size > 0` to check that an array is not empty.\n",
      "  if diff:\n"
     ]
    }
   ],
   "source": [
    "params = {\n",
    "        'min_child_weight': [1, 5, 10],\n",
    "        'gamma': [0.5, 1, 1.5, 2, 5],\n",
    "        'subsample': [0.6, 0.8, 1.0],\n",
    "        'colsample_bytree': [0.6, 0.8, 1.0],\n",
    "        'max_depth': [2,3, 4, 5,6,7]\n",
    "        }\n",
    "clf = GridSearchCV(XGBClassifier(), param_grid=params, cv=3,n_jobs=-1)\n",
    "clf.fit(X_train_scaled, y_train)\n",
    "print(clf.best_params_)\n",
    "\n",
    "print(\"best score : {0:.2f}\".format(clf.best_score_))\n",
    "\n",
    "# evalute model\n",
    "print(\"score for log reg v2 : {0:.2f}\".format(clf.score(X_test_scaled, y_test)))\n"
   ]
  },
  {
   "cell_type": "code",
   "execution_count": 37,
   "metadata": {
    "collapsed": true
   },
   "outputs": [],
   "source": [
    "from sklearn.svm import SVC"
   ]
  },
  {
   "cell_type": "code",
   "execution_count": 50,
   "metadata": {},
   "outputs": [
    {
     "name": "stdout",
     "output_type": "stream",
     "text": [
      "{'C': 2.6035765765765766, 'degree': 2, 'kernel': 'rbf'}\n",
      "best score : 0.82\n",
      "score for log reg v2 : 0.83\n"
     ]
    }
   ],
   "source": [
    "params = { 'C':list(np.linspace(0.001,100,1000)), 'kernel':[\"rbf\", \"poly\"], 'degree':[2,3,4,5]}\n",
    "clf = GridSearchCV(SVC(), param_grid=params, cv=3,n_jobs=-1)\n",
    "clf.fit(X_train_scaled, y_train)\n",
    "print(clf.best_params_)\n",
    "\n",
    "print(\"best score : {0:.2f}\".format(clf.best_score_))\n",
    "\n",
    "# evalute model\n",
    "print(\"score for log reg v2 : {0:.2f}\".format(clf.score(X_test_scaled, y_test)))\n"
   ]
  },
  {
   "cell_type": "code",
   "execution_count": 51,
   "metadata": {
    "collapsed": true
   },
   "outputs": [],
   "source": [
    "get_submission_file(clf,\"SVM.csv\")"
   ]
  },
  {
   "cell_type": "markdown",
   "metadata": {},
   "source": [
    "** ExtraTreesClassifier ** "
   ]
  },
  {
   "cell_type": "code",
   "execution_count": 64,
   "metadata": {
    "collapsed": true
   },
   "outputs": [],
   "source": [
    "from sklearn.ensemble import VotingClassifier,ExtraTreesClassifier,AdaBoostClassifier,GradientBoostingClassifier\n",
    "from sklearn import metrics"
   ]
  },
  {
   "cell_type": "code",
   "execution_count": 95,
   "metadata": {},
   "outputs": [
    {
     "name": "stderr",
     "output_type": "stream",
     "text": [
      "C:\\Anaconda3\\lib\\site-packages\\sklearn\\linear_model\\logistic.py:1228: UserWarning: 'n_jobs' > 1 does not have any effect when 'solver' is set to 'liblinear'. Got 'n_jobs' = -1.\n",
      "  \" = {}.\".format(self.n_jobs))\n",
      "C:\\Anaconda3\\lib\\site-packages\\sklearn\\preprocessing\\label.py:151: DeprecationWarning: The truth value of an empty array is ambiguous. Returning False, but in future this will result in an error. Use `array.size > 0` to check that an array is not empty.\n",
      "  if diff:\n",
      "C:\\Anaconda3\\lib\\site-packages\\sklearn\\preprocessing\\label.py:151: DeprecationWarning: The truth value of an empty array is ambiguous. Returning False, but in future this will result in an error. Use `array.size > 0` to check that an array is not empty.\n",
      "  if diff:\n",
      "C:\\Anaconda3\\lib\\site-packages\\sklearn\\linear_model\\logistic.py:1228: UserWarning: 'n_jobs' > 1 does not have any effect when 'solver' is set to 'liblinear'. Got 'n_jobs' = -1.\n",
      "  \" = {}.\".format(self.n_jobs))\n"
     ]
    },
    {
     "name": "stdout",
     "output_type": "stream",
     "text": [
      "eclf1 : 0.85\n",
      "eclf2 : 0.85\n"
     ]
    },
    {
     "name": "stderr",
     "output_type": "stream",
     "text": [
      "C:\\Anaconda3\\lib\\site-packages\\sklearn\\preprocessing\\label.py:151: DeprecationWarning: The truth value of an empty array is ambiguous. Returning False, but in future this will result in an error. Use `array.size > 0` to check that an array is not empty.\n",
      "  if diff:\n"
     ]
    }
   ],
   "source": [
    "from sklearn.linear_model import LogisticRegression\n",
    "from sklearn.naive_bayes import GaussianNB\n",
    "from sklearn.ensemble import RandomForestClassifier, VotingClassifier\n",
    "clf1 = LogisticRegression(C=1.002, penalty='l1',random_state=1,n_jobs=-1)\n",
    "clf2 = RandomForestClassifier(n_estimators=100,random_state=1,n_jobs=-1)\n",
    "clf3 = GaussianNB()\n",
    "clf4 = XGBClassifier(n_estimators=100,colsample_bytree=0.8,gamma=0.5,max_depth=5,min_child_weight=5, subsample= 0.8)\n",
    "clf5 = ExtraTreesClassifier(n_estimators=100)\n",
    "clf6 = AdaBoostClassifier(n_estimators=100)\n",
    "clf7 = GradientBoostingClassifier(n_estimators=100)\n",
    "\n",
    "eclf1 = VotingClassifier(estimators=[('lr', clf1), ('rf', clf2), ('gnb', clf3),('xgb',clf4),('etc',clf5),('ada',clf6),('gbc',clf7)], voting='hard')\n",
    "eclf1.fit(X_train_scaled, y_train)\n",
    "print(\"eclf1 : {0:.2f}\".format(metrics.accuracy_score(y_test, eclf1.predict(X_test_scaled))))\n",
    "\n",
    "\n",
    "\n",
    "eclf2 = VotingClassifier(estimators=[ ('lr', clf1), ('rf', clf2), ('gnb', clf3),('xgb',clf4),('etc',clf5),('ada',clf6),('gbc',clf7)], voting='soft')\n",
    "eclf2.fit(X_train_scaled, y_train)\n",
    "print(\"eclf2 : {0:.2f}\".format(metrics.accuracy_score(y_test, eclf2.predict(X_test_scaled))))\n"
   ]
  },
  {
   "cell_type": "code",
   "execution_count": 96,
   "metadata": {},
   "outputs": [
    {
     "name": "stderr",
     "output_type": "stream",
     "text": [
      "C:\\Anaconda3\\lib\\site-packages\\sklearn\\preprocessing\\label.py:151: DeprecationWarning: The truth value of an empty array is ambiguous. Returning False, but in future this will result in an error. Use `array.size > 0` to check that an array is not empty.\n",
      "  if diff:\n"
     ]
    }
   ],
   "source": [
    "get_submission_file(eclf2,\"votingClassifer.csv\")"
   ]
  },
  {
   "cell_type": "markdown",
   "metadata": {},
   "source": [
    "### keras implementation"
   ]
  },
  {
   "cell_type": "code",
   "execution_count": 92,
   "metadata": {
    "collapsed": true
   },
   "outputs": [],
   "source": [
    "def get_submission_file_for_deep(model,filename):\n",
    "    # converting to the matrix\n",
    "    test_X = test_df.as_matrix().astype('float')\n",
    "    predictions = model.predict_classes(test_X).ravel()\n",
    "    df_submission = pd.DataFrame({'PassengerId': test_df.index,'Survived':predictions})\n",
    "    submission_data_path = os.path.join(os.path.pardir,'data','external')\n",
    "    submission_file_path = os.path.join(submission_data_path,filename)\n",
    "    df_submission.to_csv(submission_file_path,index=False)"
   ]
  },
  {
   "cell_type": "code",
   "execution_count": 73,
   "metadata": {},
   "outputs": [
    {
     "data": {
      "text/plain": [
       "(712, 32)"
      ]
     },
     "execution_count": 73,
     "metadata": {},
     "output_type": "execute_result"
    }
   ],
   "source": [
    "from keras.models import Sequential\n",
    "from keras.layers import Dense,Dropout\n",
    "X_train_scaled.shape"
   ]
  },
  {
   "cell_type": "code",
   "execution_count": 81,
   "metadata": {},
   "outputs": [
    {
     "name": "stdout",
     "output_type": "stream",
     "text": [
      "Epoch 1/100\n",
      "712/712 [==============================] - 1s 2ms/step - loss: 0.7656 - acc: 0.4972\n",
      "Epoch 2/100\n",
      "712/712 [==============================] - 0s 271us/step - loss: 0.7168 - acc: 0.5997\n",
      "Epoch 3/100\n",
      "712/712 [==============================] - 0s 277us/step - loss: 0.6773 - acc: 0.6180\n",
      "Epoch 4/100\n",
      "712/712 [==============================] - 0s 275us/step - loss: 0.6648 - acc: 0.6517\n",
      "Epoch 5/100\n",
      "712/712 [==============================] - 0s 266us/step - loss: 0.6601 - acc: 0.6320\n",
      "Epoch 6/100\n",
      "712/712 [==============================] - 0s 259us/step - loss: 0.6517 - acc: 0.6517\n",
      "Epoch 7/100\n",
      "712/712 [==============================] - 0s 268us/step - loss: 0.6451 - acc: 0.6643\n",
      "Epoch 8/100\n",
      "712/712 [==============================] - 0s 319us/step - loss: 0.6233 - acc: 0.6854\n",
      "Epoch 9/100\n",
      "712/712 [==============================] - 0s 277us/step - loss: 0.6295 - acc: 0.6742\n",
      "Epoch 10/100\n",
      "712/712 [==============================] - 0s 283us/step - loss: 0.5886 - acc: 0.7177\n",
      "Epoch 11/100\n",
      "712/712 [==============================] - 0s 263us/step - loss: 0.5725 - acc: 0.7177\n",
      "Epoch 12/100\n",
      "712/712 [==============================] - 0s 275us/step - loss: 0.5906 - acc: 0.7331\n",
      "Epoch 13/100\n",
      "712/712 [==============================] - 0s 311us/step - loss: 0.5532 - acc: 0.7360\n",
      "Epoch 14/100\n",
      "712/712 [==============================] - 0s 374us/step - loss: 0.5345 - acc: 0.7626\n",
      "Epoch 15/100\n",
      "712/712 [==============================] - 0s 302us/step - loss: 0.5801 - acc: 0.7444\n",
      "Epoch 16/100\n",
      "712/712 [==============================] - 0s 290us/step - loss: 0.5456 - acc: 0.7402\n",
      "Epoch 17/100\n",
      "712/712 [==============================] - 0s 280us/step - loss: 0.5175 - acc: 0.7823\n",
      "Epoch 18/100\n",
      "712/712 [==============================] - 0s 311us/step - loss: 0.5345 - acc: 0.7542\n",
      "Epoch 19/100\n",
      "712/712 [==============================] - 0s 281us/step - loss: 0.5175 - acc: 0.7654\n",
      "Epoch 20/100\n",
      "712/712 [==============================] - 0s 278us/step - loss: 0.5170 - acc: 0.7612\n",
      "Epoch 21/100\n",
      "712/712 [==============================] - 0s 284us/step - loss: 0.4906 - acc: 0.7949\n",
      "Epoch 22/100\n",
      "712/712 [==============================] - 0s 264us/step - loss: 0.4806 - acc: 0.7949\n",
      "Epoch 23/100\n",
      "712/712 [==============================] - 0s 291us/step - loss: 0.4608 - acc: 0.8020\n",
      "Epoch 24/100\n",
      "712/712 [==============================] - 0s 271us/step - loss: 0.5140 - acc: 0.7978\n",
      "Epoch 25/100\n",
      "712/712 [==============================] - 0s 275us/step - loss: 0.4842 - acc: 0.7992\n",
      "Epoch 26/100\n",
      "712/712 [==============================] - 0s 278us/step - loss: 0.4743 - acc: 0.8048\n",
      "Epoch 27/100\n",
      "712/712 [==============================] - 0s 309us/step - loss: 0.4943 - acc: 0.8062\n",
      "Epoch 28/100\n",
      "712/712 [==============================] - 0s 299us/step - loss: 0.4831 - acc: 0.8132\n",
      "Epoch 29/100\n",
      "712/712 [==============================] - 0s 288us/step - loss: 0.4675 - acc: 0.8287\n",
      "Epoch 30/100\n",
      "712/712 [==============================] - 0s 308us/step - loss: 0.4946 - acc: 0.7935\n",
      "Epoch 31/100\n",
      "712/712 [==============================] - 0s 273us/step - loss: 0.4342 - acc: 0.8202\n",
      "Epoch 32/100\n",
      "712/712 [==============================] - 0s 278us/step - loss: 0.4537 - acc: 0.8160\n",
      "Epoch 33/100\n",
      "712/712 [==============================] - 0s 278us/step - loss: 0.4634 - acc: 0.8244\n",
      "Epoch 34/100\n",
      "712/712 [==============================] - 0s 277us/step - loss: 0.4847 - acc: 0.8244\n",
      "Epoch 35/100\n",
      "712/712 [==============================] - 0s 277us/step - loss: 0.4858 - acc: 0.8104\n",
      "Epoch 36/100\n",
      "712/712 [==============================] - 0s 277us/step - loss: 0.4521 - acc: 0.8118\n",
      "Epoch 37/100\n",
      "712/712 [==============================] - 0s 288us/step - loss: 0.4728 - acc: 0.8258\n",
      "Epoch 38/100\n",
      "712/712 [==============================] - 0s 270us/step - loss: 0.4422 - acc: 0.8216\n",
      "Epoch 39/100\n",
      "712/712 [==============================] - 0s 268us/step - loss: 0.4548 - acc: 0.8301\n",
      "Epoch 40/100\n",
      "712/712 [==============================] - 0s 267us/step - loss: 0.4409 - acc: 0.8329\n",
      "Epoch 41/100\n",
      "712/712 [==============================] - 0s 256us/step - loss: 0.4640 - acc: 0.8146\n",
      "Epoch 42/100\n",
      "712/712 [==============================] - 0s 277us/step - loss: 0.4427 - acc: 0.8287\n",
      "Epoch 43/100\n",
      "712/712 [==============================] - 0s 298us/step - loss: 0.4407 - acc: 0.8230\n",
      "Epoch 44/100\n",
      "712/712 [==============================] - 0s 264us/step - loss: 0.4413 - acc: 0.8188\n",
      "Epoch 45/100\n",
      "712/712 [==============================] - 0s 266us/step - loss: 0.4614 - acc: 0.8188\n",
      "Epoch 46/100\n",
      "712/712 [==============================] - 0s 285us/step - loss: 0.4500 - acc: 0.8301\n",
      "Epoch 47/100\n",
      "712/712 [==============================] - 0s 301us/step - loss: 0.4467 - acc: 0.8230\n",
      "Epoch 48/100\n",
      "712/712 [==============================] - 0s 291us/step - loss: 0.4274 - acc: 0.8371\n",
      "Epoch 49/100\n",
      "712/712 [==============================] - 0s 299us/step - loss: 0.4422 - acc: 0.8455\n",
      "Epoch 50/100\n",
      "712/712 [==============================] - 0s 298us/step - loss: 0.4166 - acc: 0.8525\n",
      "Epoch 51/100\n",
      "712/712 [==============================] - 0s 287us/step - loss: 0.4390 - acc: 0.8301\n",
      "Epoch 52/100\n",
      "712/712 [==============================] - 0s 295us/step - loss: 0.4349 - acc: 0.8329\n",
      "Epoch 53/100\n",
      "712/712 [==============================] - 0s 281us/step - loss: 0.4519 - acc: 0.8202\n",
      "Epoch 54/100\n",
      "712/712 [==============================] - 0s 274us/step - loss: 0.4274 - acc: 0.8301\n",
      "Epoch 55/100\n",
      "712/712 [==============================] - 0s 278us/step - loss: 0.4427 - acc: 0.8132\n",
      "Epoch 56/100\n",
      "712/712 [==============================] - 0s 278us/step - loss: 0.4347 - acc: 0.8272\n",
      "Epoch 57/100\n",
      "712/712 [==============================] - 0s 287us/step - loss: 0.4578 - acc: 0.8301 0s - loss: 0.5112 - acc: 0.7\n",
      "Epoch 58/100\n",
      "712/712 [==============================] - 0s 284us/step - loss: 0.4143 - acc: 0.8329\n",
      "Epoch 59/100\n",
      "712/712 [==============================] - 0s 302us/step - loss: 0.4300 - acc: 0.8258\n",
      "Epoch 60/100\n",
      "712/712 [==============================] - 0s 278us/step - loss: 0.4534 - acc: 0.8258\n",
      "Epoch 61/100\n",
      "712/712 [==============================] - 0s 291us/step - loss: 0.4047 - acc: 0.8357\n",
      "Epoch 62/100\n",
      "712/712 [==============================] - 0s 308us/step - loss: 0.4511 - acc: 0.8343\n",
      "Epoch 63/100\n",
      "712/712 [==============================] - 0s 290us/step - loss: 0.4447 - acc: 0.8399\n",
      "Epoch 64/100\n",
      "712/712 [==============================] - 0s 285us/step - loss: 0.4204 - acc: 0.8343\n",
      "Epoch 65/100\n",
      "712/712 [==============================] - 0s 302us/step - loss: 0.4377 - acc: 0.8202\n",
      "Epoch 66/100\n",
      "712/712 [==============================] - 0s 302us/step - loss: 0.4492 - acc: 0.8244\n",
      "Epoch 67/100\n",
      "712/712 [==============================] - 0s 313us/step - loss: 0.4037 - acc: 0.8343\n",
      "Epoch 68/100\n",
      "712/712 [==============================] - 0s 311us/step - loss: 0.4367 - acc: 0.8329\n",
      "Epoch 69/100\n",
      "712/712 [==============================] - 0s 278us/step - loss: 0.4408 - acc: 0.8272\n",
      "Epoch 70/100\n",
      "712/712 [==============================] - 0s 273us/step - loss: 0.3964 - acc: 0.8385\n",
      "Epoch 71/100\n",
      "712/712 [==============================] - 0s 274us/step - loss: 0.4188 - acc: 0.8371\n",
      "Epoch 72/100\n",
      "712/712 [==============================] - 0s 285us/step - loss: 0.4308 - acc: 0.8567\n",
      "Epoch 73/100\n",
      "712/712 [==============================] - 0s 274us/step - loss: 0.4221 - acc: 0.8427\n",
      "Epoch 74/100\n",
      "712/712 [==============================] - 0s 268us/step - loss: 0.4182 - acc: 0.8329\n",
      "Epoch 75/100\n",
      "712/712 [==============================] - 0s 274us/step - loss: 0.4162 - acc: 0.8329\n",
      "Epoch 76/100\n",
      "712/712 [==============================] - 0s 278us/step - loss: 0.4368 - acc: 0.8160\n",
      "Epoch 77/100\n",
      "712/712 [==============================] - 0s 284us/step - loss: 0.4366 - acc: 0.8301\n",
      "Epoch 78/100\n",
      "712/712 [==============================] - 0s 280us/step - loss: 0.4225 - acc: 0.8371\n",
      "Epoch 79/100\n",
      "712/712 [==============================] - 0s 301us/step - loss: 0.4165 - acc: 0.8483\n",
      "Epoch 80/100\n",
      "712/712 [==============================] - 0s 277us/step - loss: 0.4373 - acc: 0.8357\n",
      "Epoch 81/100\n",
      "712/712 [==============================] - 0s 287us/step - loss: 0.4199 - acc: 0.8202\n",
      "Epoch 82/100\n",
      "712/712 [==============================] - 0s 274us/step - loss: 0.4092 - acc: 0.8469\n",
      "Epoch 83/100\n"
     ]
    },
    {
     "name": "stdout",
     "output_type": "stream",
     "text": [
      "712/712 [==============================] - 0s 284us/step - loss: 0.3987 - acc: 0.8455\n",
      "Epoch 84/100\n",
      "712/712 [==============================] - 0s 254us/step - loss: 0.4114 - acc: 0.8427\n",
      "Epoch 85/100\n",
      "712/712 [==============================] - 0s 259us/step - loss: 0.4377 - acc: 0.8272\n",
      "Epoch 86/100\n",
      "712/712 [==============================] - 0s 281us/step - loss: 0.4167 - acc: 0.8371\n",
      "Epoch 87/100\n",
      "712/712 [==============================] - 0s 301us/step - loss: 0.4044 - acc: 0.8525\n",
      "Epoch 88/100\n",
      "712/712 [==============================] - 0s 292us/step - loss: 0.4107 - acc: 0.8385\n",
      "Epoch 89/100\n",
      "712/712 [==============================] - 0s 288us/step - loss: 0.4024 - acc: 0.8413\n",
      "Epoch 90/100\n",
      "712/712 [==============================] - 0s 285us/step - loss: 0.4150 - acc: 0.8525\n",
      "Epoch 91/100\n",
      "712/712 [==============================] - 0s 308us/step - loss: 0.4047 - acc: 0.8413\n",
      "Epoch 92/100\n",
      "712/712 [==============================] - 0s 298us/step - loss: 0.4157 - acc: 0.8399\n",
      "Epoch 93/100\n",
      "712/712 [==============================] - 0s 308us/step - loss: 0.4162 - acc: 0.8469\n",
      "Epoch 94/100\n",
      "712/712 [==============================] - 0s 285us/step - loss: 0.4100 - acc: 0.8427\n",
      "Epoch 95/100\n",
      "712/712 [==============================] - 0s 308us/step - loss: 0.3853 - acc: 0.8441\n",
      "Epoch 96/100\n",
      "712/712 [==============================] - 0s 316us/step - loss: 0.3606 - acc: 0.8567\n",
      "Epoch 97/100\n",
      "712/712 [==============================] - 0s 302us/step - loss: 0.3938 - acc: 0.8455\n",
      "Epoch 98/100\n",
      "712/712 [==============================] - 0s 285us/step - loss: 0.4153 - acc: 0.8441\n",
      "Epoch 99/100\n",
      "712/712 [==============================] - 0s 302us/step - loss: 0.3869 - acc: 0.8483\n",
      "Epoch 100/100\n",
      "712/712 [==============================] - 0s 304us/step - loss: 0.3969 - acc: 0.8511\n",
      "179/179 [==============================] - 0s 2ms/step\n"
     ]
    }
   ],
   "source": [
    "model =Sequential()\n",
    "model.add(Dense(100, input_dim=32, activation='relu'))\n",
    "model.add(Dropout(0.5))\n",
    "model.add(Dense(20, activation='relu'))\n",
    "model.add(Dropout(0.5))\n",
    "model.add(Dense(20, activation='relu'))\n",
    "model.add(Dropout(0.5))\n",
    "model.add(Dense(20, activation='relu'))\n",
    "model.add(Dropout(0.5))\n",
    "model.add(Dense(20, activation='relu'))\n",
    "model.add(Dropout(0.5))\n",
    "model.add(Dense(1, activation='sigmoid'))\n",
    "\n",
    "model.compile(loss='binary_crossentropy', optimizer='adam', metrics=['accuracy'])\n",
    "\n",
    "model.fit(X_train_scaled, y_train, epochs=100,batch_size=10)\n",
    "\n",
    "scores = model.evaluate(X_test_scaled, y_test, batch_size=10)"
   ]
  },
  {
   "cell_type": "code",
   "execution_count": 93,
   "metadata": {},
   "outputs": [],
   "source": [
    "get_submission_file_for_deep(model,\"keras.csv\")"
   ]
  },
  {
   "cell_type": "code",
   "execution_count": 89,
   "metadata": {},
   "outputs": [
    {
     "data": {
      "text/plain": [
       "array([[0],\n",
       "       [0],\n",
       "       [0],\n",
       "       [1],\n",
       "       [0],\n",
       "       [0],\n",
       "       [1],\n",
       "       [1],\n",
       "       [0],\n",
       "       [1],\n",
       "       [0],\n",
       "       [1],\n",
       "       [0],\n",
       "       [1],\n",
       "       [1],\n",
       "       [1],\n",
       "       [0],\n",
       "       [0],\n",
       "       [0],\n",
       "       [1],\n",
       "       [0],\n",
       "       [1],\n",
       "       [0],\n",
       "       [0],\n",
       "       [0],\n",
       "       [1],\n",
       "       [0],\n",
       "       [0],\n",
       "       [1],\n",
       "       [0],\n",
       "       [0],\n",
       "       [0],\n",
       "       [0],\n",
       "       [0],\n",
       "       [0],\n",
       "       [0],\n",
       "       [0],\n",
       "       [0],\n",
       "       [0],\n",
       "       [0],\n",
       "       [0],\n",
       "       [0],\n",
       "       [0],\n",
       "       [0],\n",
       "       [1],\n",
       "       [0],\n",
       "       [0],\n",
       "       [1],\n",
       "       [0],\n",
       "       [0],\n",
       "       [0],\n",
       "       [0],\n",
       "       [1],\n",
       "       [0],\n",
       "       [0],\n",
       "       [0],\n",
       "       [0],\n",
       "       [0],\n",
       "       [0],\n",
       "       [0],\n",
       "       [0],\n",
       "       [0],\n",
       "       [1],\n",
       "       [0],\n",
       "       [0],\n",
       "       [0],\n",
       "       [1],\n",
       "       [0],\n",
       "       [1],\n",
       "       [1],\n",
       "       [1],\n",
       "       [0],\n",
       "       [0],\n",
       "       [0],\n",
       "       [0],\n",
       "       [1],\n",
       "       [0],\n",
       "       [0],\n",
       "       [0],\n",
       "       [0],\n",
       "       [0],\n",
       "       [1],\n",
       "       [1],\n",
       "       [0],\n",
       "       [0],\n",
       "       [1],\n",
       "       [1],\n",
       "       [0],\n",
       "       [1],\n",
       "       [0],\n",
       "       [0],\n",
       "       [0],\n",
       "       [1],\n",
       "       [1],\n",
       "       [0],\n",
       "       [0],\n",
       "       [1],\n",
       "       [0],\n",
       "       [0],\n",
       "       [0],\n",
       "       [0],\n",
       "       [0],\n",
       "       [0],\n",
       "       [0],\n",
       "       [1],\n",
       "       [0],\n",
       "       [1],\n",
       "       [0],\n",
       "       [0],\n",
       "       [1],\n",
       "       [0],\n",
       "       [1],\n",
       "       [0],\n",
       "       [0],\n",
       "       [0],\n",
       "       [1],\n",
       "       [0],\n",
       "       [1],\n",
       "       [0],\n",
       "       [1],\n",
       "       [0],\n",
       "       [0],\n",
       "       [0],\n",
       "       [0],\n",
       "       [0],\n",
       "       [0],\n",
       "       [0],\n",
       "       [0],\n",
       "       [0],\n",
       "       [0],\n",
       "       [1],\n",
       "       [0],\n",
       "       [0],\n",
       "       [0],\n",
       "       [0],\n",
       "       [0],\n",
       "       [0],\n",
       "       [0],\n",
       "       [0],\n",
       "       [0],\n",
       "       [0],\n",
       "       [1],\n",
       "       [0],\n",
       "       [1],\n",
       "       [1],\n",
       "       [0],\n",
       "       [0],\n",
       "       [1],\n",
       "       [1],\n",
       "       [0],\n",
       "       [0],\n",
       "       [0],\n",
       "       [0],\n",
       "       [0],\n",
       "       [1],\n",
       "       [0],\n",
       "       [0],\n",
       "       [0],\n",
       "       [1],\n",
       "       [0],\n",
       "       [0],\n",
       "       [0],\n",
       "       [1],\n",
       "       [0],\n",
       "       [0],\n",
       "       [0],\n",
       "       [0],\n",
       "       [0],\n",
       "       [0],\n",
       "       [0],\n",
       "       [0],\n",
       "       [1],\n",
       "       [0],\n",
       "       [0],\n",
       "       [1],\n",
       "       [0],\n",
       "       [1],\n",
       "       [0],\n",
       "       [0]])"
      ]
     },
     "execution_count": 89,
     "metadata": {},
     "output_type": "execute_result"
    }
   ],
   "source": []
  },
  {
   "cell_type": "markdown",
   "metadata": {},
   "source": [
    "#### trying random soln"
   ]
  },
  {
   "cell_type": "code",
   "execution_count": 102,
   "metadata": {},
   "outputs": [],
   "source": [
    "train = X_train_scaled\n",
    "targets = y_train\n",
    "\n",
    "clf = RandomForestClassifier(n_estimators=50, max_features='sqrt')\n",
    "clf = clf.fit(train, targets)"
   ]
  },
  {
   "cell_type": "code",
   "execution_count": 109,
   "metadata": {},
   "outputs": [],
   "source": [
    "imp = clf.feature_importances_"
   ]
  },
  {
   "cell_type": "code",
   "execution_count": 111,
   "metadata": {},
   "outputs": [],
   "source": [
    "features = train_df.loc[:,'Age':].columns"
   ]
  },
  {
   "cell_type": "code",
   "execution_count": 112,
   "metadata": {
    "collapsed": true
   },
   "outputs": [],
   "source": [
    "feat = pd.DataFrame()\n",
    "feat['feature'] = features\n",
    "feat['importance'] = imp\n",
    "feat.sort_values(by=['importance'], ascending=True, inplace=True)\n",
    "feat.set_index('feature', inplace=True)"
   ]
  },
  {
   "cell_type": "code",
   "execution_count": 116,
   "metadata": {},
   "outputs": [
    {
     "data": {
      "image/png": "[encoded data removed]",
      "text/plain": [
       "<matplotlib.figure.Figure at 0x22ca04be2e8>"
      ]
     },
     "metadata": {},
     "output_type": "display_data"
    },
    {
     "data": {
      "image/png": "[encoded data removed]",
      "text/plain": [
       "<matplotlib.figure.Figure at 0x22ca2dae828>"
      ]
     },
     "metadata": {},
     "output_type": "display_data"
    },
    {
     "data": {
      "image/png": "[encoded data removed]",
      "text/plain": [
       "<matplotlib.figure.Figure at 0x22ca2f047f0>"
      ]
     },
     "metadata": {},
     "output_type": "display_data"
    }
   ],
   "source": [
    "import matplotlib.pyplot as plt\n",
    "feat.plot(kind='barh', figsize=(25, 25))\n",
    "plt.show()\n"
   ]
  },
  {
   "cell_type": "code",
   "execution_count": 133,
   "metadata": {},
   "outputs": [],
   "source": [
    "from sklearn.linear_model import LogisticRegressionCV\n",
    "from sklearn.model_selection import StratifiedKFold\n",
    "logreg = LogisticRegression()\n",
    "logreg_cv = LogisticRegressionCV()\n",
    "rf = RandomForestClassifier()\n",
    "gboost = GradientBoostingClassifier()\n",
    "\n",
    "models = [logreg, logreg_cv, rf, gboost]"
   ]
  },
  {
   "cell_type": "code",
   "execution_count": 126,
   "metadata": {},
   "outputs": [
    {
     "name": "stdout",
     "output_type": "stream",
     "text": [
      "Cross-validation of : <class 'sklearn.linear_model.logistic.LogisticRegression'>\n",
      "CV score = 0.8324022346368715\n",
      "***\n",
      "Cross-validation of : <class 'sklearn.linear_model.logistic.LogisticRegressionCV'>\n",
      "CV score = 0.8268156424581006\n",
      "***\n",
      "Cross-validation of : <class 'sklearn.ensemble.forest.RandomForestClassifier'>\n",
      "CV score = 0.8268156424581006\n",
      "***\n",
      "Cross-validation of : <class 'sklearn.ensemble.gradient_boosting.GradientBoostingClassifier'>\n",
      "CV score = 0.8491620111731844\n",
      "***\n"
     ]
    }
   ],
   "source": [
    "for model in models:\n",
    "    print('Cross-validation of : {0}'.format(model.__class__))\n",
    "    model.fit(X_train,y_train)\n",
    "    score = model.score(X=X_test, y=y_test)\n",
    "    print('CV score = {0}'.format(score))\n",
    "    print('***')"
   ]
  },
  {
   "cell_type": "code",
   "execution_count": 137,
   "metadata": {},
   "outputs": [
    {
     "name": "stdout",
     "output_type": "stream",
     "text": [
      "Fitting 5 folds for each of 324 candidates, totalling 1620 fits\n"
     ]
    },
    {
     "name": "stderr",
     "output_type": "stream",
     "text": [
      "[Parallel(n_jobs=-1)]: Done  51 tasks      | elapsed:    2.9s\n",
      "[Parallel(n_jobs=-1)]: Done 651 tasks      | elapsed:   16.3s\n"
     ]
    },
    {
     "name": "stdout",
     "output_type": "stream",
     "text": [
      "Best score: 0.8398876404494382\n",
      "Best parameters: {'bootstrap': True, 'max_depth': 6, 'max_features': 'auto', 'min_samples_leaf': 1, 'min_samples_split': 2, 'n_estimators': 10}\n"
     ]
    },
    {
     "name": "stderr",
     "output_type": "stream",
     "text": [
      "[Parallel(n_jobs=-1)]: Done 1620 out of 1620 | elapsed:   38.5s finished\n"
     ]
    }
   ],
   "source": [
    "# turn run_gs to True if you want to run the gridsearch again.\n",
    "run_gs = True\n",
    "\n",
    "if run_gs:\n",
    "    parameter_grid = {\n",
    "                 'max_depth' : [4, 6, 8],\n",
    "                 'n_estimators': [50, 10],\n",
    "                 'max_features': ['sqrt', 'auto', 'log2'],\n",
    "                 'min_samples_split': [2, 3, 10],\n",
    "                 'min_samples_leaf': [1, 3, 10],\n",
    "                 'bootstrap': [True, False],\n",
    "                 }\n",
    "    forest = RandomForestClassifier()\n",
    "    cross_validation = StratifiedKFold(n_splits=5)\n",
    "\n",
    "    grid_search = GridSearchCV(forest,n_jobs=-1,\n",
    "                               scoring='accuracy',\n",
    "                               param_grid=parameter_grid,\n",
    "                               cv=cross_validation,\n",
    "                               verbose=1\n",
    "                              )\n",
    "\n",
    "    grid_search.fit(train, targets)\n",
    "    model = grid_search\n",
    "    parameters = grid_search.best_params_\n",
    "\n",
    "    print('Best score: {}'.format(grid_search.best_score_))\n",
    "    print('Best parameters: {}'.format(grid_search.best_params_))\n",
    "    \n",
    "else: \n",
    "    parameters = {'bootstrap': False, 'min_samples_leaf': 3, 'n_estimators': 50, \n",
    "                  'min_samples_split': 10, 'max_features': 'sqrt', 'max_depth': 6}\n",
    "    \n",
    "    model = RandomForestClassifier(**parameters)\n",
    "    model.fit(X_train, y_train)"
   ]
  },
  {
   "cell_type": "code",
   "execution_count": 138,
   "metadata": {},
   "outputs": [
    {
     "data": {
      "text/plain": [
       "0.6145251396648045"
      ]
     },
     "execution_count": 138,
     "metadata": {},
     "output_type": "execute_result"
    }
   ],
   "source": [
    "model.score(X_test,y_test)"
   ]
  },
  {
   "cell_type": "code",
   "execution_count": 152,
   "metadata": {},
   "outputs": [
    {
     "name": "stdout",
     "output_type": "stream",
     "text": [
      "{'C': 0.15000000000000002, 'penalty': 'l1'}\n"
     ]
    }
   ],
   "source": [
    "lr = LogisticRegression()\n",
    "params = {'C':list(np.linspace(0.01,100,10000,dtype=float)),'penalty':['l1','l2']}\n",
    "clf = GridSearchCV(lr, param_grid=params, cv=10,n_jobs=-1)\n",
    "clf.fit(X_train_scaled, y_train)\n",
    "print(clf.best_params_)\n"
   ]
  },
  {
   "cell_type": "code",
   "execution_count": 154,
   "metadata": {},
   "outputs": [
    {
     "data": {
      "text/plain": [
       "0.8268156424581006"
      ]
     },
     "execution_count": 154,
     "metadata": {},
     "output_type": "execute_result"
    }
   ],
   "source": [
    "metrics.accuracy_score(y_test,clf.predict(X_test_scaled))"
   ]
  },
  {
   "cell_type": "code",
   "execution_count": 155,
   "metadata": {
    "collapsed": true
   },
   "outputs": [],
   "source": [
    "get_submission_file(clf,\"log_reg_final.csv\")"
   ]
  },
  {
   "cell_type": "markdown",
   "metadata": {},
   "source": []
  }
 ],
 "metadata": {
  "kernelspec": {
   "display_name": "Python 3",
   "language": "python",
   "name": "python3"
  },
  "language_info": {
   "codemirror_mode": {
    "name": "ipython",
    "version": 3
   },
   "file_extension": ".py",
   "mimetype": "text/x-python",
   "name": "python",
   "nbconvert_exporter": "python",
   "pygments_lexer": "ipython3",
   "version": "3.6.1"
  }
 },
 "nbformat": 4,
 "nbformat_minor": 2
}
